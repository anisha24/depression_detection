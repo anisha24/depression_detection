{
  "cells": [
    {
      "cell_type": "markdown",
      "metadata": {
        "id": "4cbgwZWWfWpp"
      },
      "source": [
        "# Depression detection using Audio (CNN)"
      ]
    },
    {
      "cell_type": "code",
      "execution_count": 8,
      "metadata": {
        "colab": {
          "base_uri": "https://localhost:8080/"
        },
        "id": "tAb77yZ9fzMG",
        "outputId": "b3fbeff1-dba9-448e-a5ab-8b22aee6aac5"
      },
      "outputs": [
        {
          "output_type": "stream",
          "name": "stdout",
          "text": [
            "Mounted at /content/drive\n"
          ]
        }
      ],
      "source": [
        "from google.colab import drive\n",
        "drive.mount('/content/drive', force_remount=True)\n",
        "import numpy as np\n",
        "import pandas as pd \n",
        "import sklearn\n",
        "import gc"
      ]
    },
    {
      "cell_type": "code",
      "execution_count": 9,
      "metadata": {
        "id": "pafL7Li0jyXW"
      },
      "outputs": [],
      "source": [
        "from keras.models import Sequential\n",
        "from keras.layers import Conv1D\n",
        "from keras.layers import MaxPooling1D\n",
        "from keras.layers import Flatten\n",
        "from keras.layers import Dense\n",
        "from keras.layers import Dropout\n",
        "from keras import metrics\n",
        "from sklearn.metrics import classification_report"
      ]
    },
    {
      "cell_type": "code",
      "execution_count": 10,
      "metadata": {
        "id": "FY68SdaLU3kb"
      },
      "outputs": [],
      "source": [
        "def Thresholding(Y_pred, threshold):\n",
        "  Y_pred_temp = []\n",
        "  print(\"Y_pred: \", Y_pred.shape)\n",
        "  for i in range(len(Y_pred)):\n",
        "    if(Y_pred[i] < threshold):\n",
        "      Y_pred_temp.append(0)\n",
        "    else:\n",
        "      Y_pred_temp.append(1)\n",
        "\n",
        "  return np.array(Y_pred_temp)\n",
        "\n",
        "def balanceDataset(X_train,Y_train):\n",
        "  #X_train_d and X_train_nd represeting depressed and non-depressed input data points\n",
        "  X_train_nd = X_train[Y_train==0]\n",
        "  X_train_d = X_train[Y_train==1]\n",
        "\n",
        "  Y_train_d = Y_train[Y_train==1]\n",
        "  size = X_train_nd.shape[0] - X_train_d.shape[0]\n",
        "  X = []\n",
        "  Y = []\n",
        "  X_train = list(X_train)\n",
        "  Y_train = list(Y_train)\n",
        "  while(size>0):\n",
        "    size -= 1\n",
        "    index = np.random.randint(0,X_train_d.shape[0]-1)\n",
        "    added_index = np.random.randint(0,len(X_train)-1)\n",
        "    X_add = X_train_d[index]\n",
        "    X_added = X_train[added_index]\n",
        "\n",
        "    Y_add = Y_train_d[index]\n",
        "    Y_added = Y_train[added_index]\n",
        "\n",
        "    X_train[added_index] = X_add\n",
        "    X_train.append(X_added)\n",
        "\n",
        "    Y_train[added_index] = Y_add\n",
        "    Y_train.append(Y_added)\n",
        "\n",
        "\n",
        "  X_train = np.array(X_train)\n",
        "  Y_train = np.array(Y_train)\n",
        "  return X_train,Y_train"
      ]
    },
    {
      "cell_type": "code",
      "execution_count": 11,
      "metadata": {
        "colab": {
          "base_uri": "https://localhost:8080/"
        },
        "id": "dOnkAtb1U4LB",
        "outputId": "a1c6c174-21b3-4e49-85ce-8cbf2302610b"
      },
      "outputs": [
        {
          "output_type": "stream",
          "name": "stdout",
          "text": [
            "(170, 40000, 74)\n"
          ]
        }
      ],
      "source": [
        "\n",
        "def checkAndRemoveFirst7columns(X):\n",
        "    for i in range(X.shape[0]):\n",
        "        if(X[i,1] == 0):\n",
        "            X[i,0] = 0\n",
        "            for j in range(7):\n",
        "                X[i,j+1] = 0\n",
        "    return X\n",
        "\n",
        "\n",
        "\n",
        "dev = np.array(pd.read_csv('/content/drive/My Drive/diacwoz/dev_split_Depression_AVEC2017.csv',delimiter=',',encoding='utf-8'))[:, 0:2]\n",
        "test = np.array(pd.read_csv('/content/drive/My Drive/diacwoz/full_test_split.csv',delimiter=',',encoding='utf-8'))[:, 0:2]\n",
        "train = np.array(pd.read_csv('/content/drive/My Drive/diacwoz/train_split_Depression_AVEC2017.csv',delimiter=',',encoding='utf-8'))[:, 0:2]\n",
        "X_train = []\n",
        "Y_train = []\n",
        "\n",
        "X_test = []\n",
        "Y_test = []\n",
        "size = 40000\n",
        "\n",
        "for i in range(int(0.9 * len(train))):\n",
        "    data = pd.read_csv('/content/drive/My Drive/diacwoz/train_data/'+str(int(train[i][0]))+\"_COVAREP.csv\",header = None)\n",
        "    data = data.iloc[data.shape[0]-size:,:].values\n",
        "    data = checkAndRemoveFirst7columns(data)\n",
        "    data = np.array(data, dtype = object)\n",
        "    X_train.append(data)\n",
        "    Y_train.append(train[i][1])\n",
        "    del data\n",
        "    gc.collect()\n",
        "\n",
        "train = []\n",
        "gc.collect()\n",
        "\n",
        "for i in range(int(0.9 * len(dev))):\n",
        "    data = pd.read_csv('/content/drive/My Drive/diacwoz/dev_data/'+str(int(dev[i][0]))+\"_COVAREP.csv\",header = None)\n",
        "    data = data.iloc[data.shape[0]-size:,:].values\n",
        "    data = checkAndRemoveFirst7columns(data)\n",
        "    data = np.array(data, dtype = object)\n",
        "    X_train.append(data)\n",
        "    Y_train.append(dev[i][1])\n",
        "    del data\n",
        "    gc.collect()\n",
        "\n",
        "dev = []\n",
        "gc.collect()\n",
        "\n",
        "X_train = np.asarray(X_train).astype(np.float32)\n",
        "Y_train = np.array(Y_train, dtype = object)\n",
        "X_balanced, Y_balanced = balanceDataset(X_train,Y_train)\n",
        "gc.collect()\n",
        "print(X_balanced.shape)\n"
      ]
    },
    {
      "cell_type": "code",
      "execution_count": 12,
      "metadata": {
        "colab": {
          "base_uri": "https://localhost:8080/"
        },
        "id": "kgbv7ZktU6BU",
        "outputId": "1d7ca8b2-a92d-43f7-9ee5-fc658f8cc94e"
      },
      "outputs": [
        {
          "output_type": "stream",
          "name": "stdout",
          "text": [
            "Epoch 1/6\n",
            "6/6 [==============================] - 32s 5s/step - loss: 35.4404 - accuracy: 0.5353\n",
            "Epoch 2/6\n",
            "6/6 [==============================] - 33s 5s/step - loss: 2.1109 - accuracy: 0.4941\n",
            "Epoch 3/6\n",
            "6/6 [==============================] - 29s 5s/step - loss: 0.6990 - accuracy: 0.5471\n",
            "Epoch 4/6\n",
            "6/6 [==============================] - 29s 5s/step - loss: 0.6738 - accuracy: 0.5647\n",
            "Epoch 5/6\n",
            "6/6 [==============================] - 30s 5s/step - loss: 0.6266 - accuracy: 0.6235\n",
            "Epoch 6/6\n",
            "6/6 [==============================] - 30s 5s/step - loss: 0.5464 - accuracy: 0.7529\n"
          ]
        }
      ],
      "source": [
        "import tensorflow as tf\n",
        "class CNN_audio:\n",
        "\n",
        "  def __init__(self):\n",
        "    classifier = Sequential()\n",
        "    classifier.add(Conv1D(60, 10, input_shape = (40000, 74), activation = 'relu'))\n",
        "    classifier.add(MaxPooling1D(pool_size = 3))\n",
        "    classifier.add(Conv1D(30, 5, activation = 'relu'))\n",
        "    classifier.add(MaxPooling1D(pool_size = 3))\n",
        "    classifier.add(Conv1D(15, 5, activation = 'relu'))\n",
        "    classifier.add(MaxPooling1D(pool_size = 3))\n",
        "    classifier.add(Flatten())\n",
        "    classifier.add(Dropout(0.8))\n",
        "    classifier.add(Dense(units = 128, activation = 'relu'))\n",
        "    classifier.add(Dense(units = 1, activation = 'sigmoid'))\n",
        "\n",
        "    classifier.compile(optimizer = 'adam', loss = 'binary_crossentropy', metrics = ['accuracy'] )\n",
        "    self.classifier = classifier\n",
        "  \n",
        "  def modelFit(self, X, Y, epoch = 10):\n",
        "    self.classifier.fit(X, Y, epochs=epoch)\n",
        "\n",
        "  def modelPredict(self, X):\n",
        "    return self.classifier.predict(X)\n",
        "\n",
        "model = CNN_audio()\n",
        "Y_train = Y_train.astype(int)\n",
        "model.modelFit(X_balanced, Y_balanced, 6)\n"
      ]
    },
    {
      "cell_type": "code",
      "execution_count": 13,
      "metadata": {
        "id": "V3sUhkr6U9e6"
      },
      "outputs": [],
      "source": [
        "gc.collect()\n",
        "\n",
        "X_test = []\n",
        "Y_test = []\n",
        "\n",
        "for i in range(int(0.9 * len(test))):\n",
        "    data = pd.read_csv('/content/drive/My Drive/diacwoz/test_data/'+str(int(test[i][0]))+\"_COVAREP.csv\",header = None)\n",
        "    data = data.iloc[data.shape[0]-size:,:].values\n",
        "    data = checkAndRemoveFirst7columns(data)\n",
        "    data = np.array(data, dtype = object)\n",
        "    X_test.append(data)\n",
        "    Y_test.append(test[i][1])\n"
      ]
    },
    {
      "cell_type": "code",
      "execution_count": 18,
      "metadata": {
        "colab": {
          "base_uri": "https://localhost:8080/"
        },
        "id": "ubZa9xrhU_j9",
        "outputId": "ebd7fbb5-836a-4c37-f2fc-4b3c32d14d16"
      },
      "outputs": [
        {
          "output_type": "stream",
          "name": "stdout",
          "text": [
            "2/2 [==============================] - 2s 474ms/step\n",
            "Y_pred:  (42, 1)\n",
            "              precision    recall  f1-score   support\n",
            "\n",
            "         0.0       0.77      0.71      0.74        28\n",
            "         1.0       0.50      0.57      0.53        14\n",
            "\n",
            "    accuracy                           0.67        42\n",
            "   macro avg       0.63      0.64      0.64        42\n",
            "weighted avg       0.68      0.67      0.67        42\n",
            "\n"
          ]
        }
      ],
      "source": [
        "X_test = np.asarray(X_test).astype(np.float32)\n",
        "Y_test = np.asarray(Y_test).astype(np.float32)\n",
        "gc.collect()\n",
        "\n",
        "Y_pred = model.modelPredict(X_test)\n",
        "Y_pred = Thresholding(Y_pred, 0.4)\n",
        "print(classification_report(Y_test,Y_pred))"
      ]
    }
  ],
  "metadata": {
    "colab": {
      "machine_shape": "hm",
      "provenance": []
    },
    "gpuClass": "standard",
    "kernelspec": {
      "display_name": "Python 3",
      "name": "python3"
    }
  },
  "nbformat": 4,
  "nbformat_minor": 0
}